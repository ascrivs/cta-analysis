{
 "cells": [
  {
   "attachments": {},
   "cell_type": "markdown",
   "metadata": {},
   "source": [
    "# Chicago Transit Authority Ridership and Funding EDA\n",
    "\n",
    "\n",
    "## Summary\n",
    "\n",
    "Over the last few years, Chicago public transportation has lost ridership and funding in favor of private car ownership. Ever since the pandemic of 2020, ridership was massively cut and reliability of the service became questioned by the public. In 2024, Chicago sees ridership increasing, however, locals are finding the environment dramatically changed. The largest complaints of the CTA are:\n",
    "1. Increase in violant crime on the train\n",
    "2. Reliability and on-time delivery\n",
    "3. Health or hygiene concerns of the trains due to homelessness or drug addiction\n",
    "\n",
    "### Objective\n",
    "\n",
    "(Review with Marcello)\n",
    "\n",
    "With the limited funding provided, can we use public data to understand where financial support should be focused?\n",
    "Can we determine if safety or reliability is the biggest impact to ridership recovery? (Crime vs. late busses/trains)\n",
    "What \"lines\" have the biggest unrecovered population and what are the commonalities that can be remedied? \n",
    "\n",
    "\n",
    "## Data Sources\n",
    "\n",
    "Data for ridership is publically available through the CTA developer site [here](https://data.cityofchicago.org/browse?q=ridership&sortBy=relevance)\n",
    "\n",
    "Data for crime is posted by the city of Chicago [here](https://data.cityofchicago.org/Public-Safety/City-of-Chicago-Crime-Data/v9q9-3dm2)"
   ]
  }
 ],
 "metadata": {
  "language_info": {
   "name": "python"
  },
  "orig_nbformat": 4
 },
 "nbformat": 4,
 "nbformat_minor": 2
}
