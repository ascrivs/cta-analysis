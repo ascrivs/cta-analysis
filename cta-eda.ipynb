{
 "cells": [
  {
   "attachments": {},
   "cell_type": "markdown",
   "metadata": {},
   "source": [
    "# Chicago Transit Authority Ridership and Funding EDA\n",
    "\n",
    "\n",
    "## Summary\n",
    "\n",
    "Over the last few years, Chicago public transportation has lost ridership and funding in favor of private car ownership. Ever since the pandemic of 2020, ridership was massively cut and reliability of the service became questioned by the public. In 2024, Chicago sees ridership increasing, however, locals are finding the environment dramatically changed. The largest complaints of the CTA are:\n",
    "1. Increase in violant crime on the train\n",
    "2. Reliability and on-time delivery\n",
    "3. Health or hygiene concerns of the trains due to homelessness or drug addiction\n",
    "\n",
    "### Objective\n",
    "\n",
    "(Review with Marcello)\n",
    "\n",
    "With the limited funding provided, can we use public data to understand where financial support should be focused?\n",
    "\n",
    "\n",
    "Can we determine if safety or reliability is the biggest impact to ridership recovery? (Crime vs. late busses/trains)\n",
    "\n",
    "\n",
    "What \"lines\" have the biggest unrecovered population and what are the commonalities that can be remedied? \n",
    "\n",
    "\n",
    "## Data Sources\n",
    "\n",
    "Data for ridership is publically available through the CTA developer site [here](https://data.cityofchicago.org/browse?q=ridership&sortBy=relevance)\n",
    "\n",
    "Data for crime is posted by the city of Chicago [here](https://data.cityofchicago.org/Public-Safety/City-of-Chicago-Crime-Data/v9q9-3dm2)\n",
    "\n",
    "Data for community names is posted by the City of Chicago [here](https://data.cityofchicago.org/Facilities-Geographic-Boundaries/Boundaries-Community-Areas-current-/cauq-8yn6)\n"
   ]
  },
  {
   "cell_type": "raw",
   "metadata": {},
   "source": [
    "One to two points for the audience, mayor's office, and their interests. Specifically financial and crime. \n",
    "\n",
    "How detailed we have to go with insights - 3 to 5 insights with appendix of data for 'drill down'.\n",
    "\n",
    "Powerpoint versus report-style paper for presentation. \n",
    "\n",
    "Visualizations type for data ingestion\n",
    "\n",
    "Contextual data, domain expert review or insights?\n",
    "\n",
    "Structure the story, how presentation of insights.\n",
    "- Formatting and presentation framework; story flow; the narrative.\n",
    "\n"
   ]
  },
  {
   "attachments": {},
   "cell_type": "markdown",
   "metadata": {},
   "source": [
    "## Data Dictionary and Glossary\n",
    "\n",
    "### Crime\n",
    "\n",
    "**Summary**\n",
    "Reported crimes committed within the Chicago area and published by the Chicago Police Department. Data last refreshed as of 4th of April, 2024 00:00 (Central Standard Time / Chicago).\n",
    "\n",
    "### Data Dictionary\n",
    "\n",
    "**Case Number** - The Chicago Police Department RD Number (Records Division Number), which is unique to the incident.\n",
    "\n",
    "**Date** - Date when the incident occurred. this is sometimes a best estimate.\n",
    "\n",
    "**Block** - The partially redacted address where the incident occurred, placing it on the same block as the actual address.\n",
    "\n",
    "**IUCR** - The Illinois Unifrom Crime Reporting code. This is directly linked to the Primary Type and Description. See the list of IUCR codes at https://data.cityofchicago.org/d/c7ck-438e.\n",
    "\n",
    "**Primary Type** - The primary description of the IUCR code.\n",
    "\n",
    "**Description** - The secondary description of the IUCR code, a subcategory of the primary description.\n",
    "\n",
    "**Location Description** - Description of the location where the incident occurred.\n",
    "\n",
    "**Arrest** - Indicates whether an arrest was made.\n",
    "\n",
    "**Domestic** - Indicates whether the incident was domestic-related as defined by the Illinois Domestic Violence Act.\n",
    "\n",
    "**Beat** - Indicates the beat where the incident occurred. A beat is the smallest police geographic area – each beat has a dedicated police beat car. Three to five beats make up a police sector, and three sectors make up a police district. The Chicago Police Department has 22 police districts. See the beats at https://data.cityofchicago.org/d/aerh-rz74.\n",
    "\n",
    "**District** - Indicates the police district where the incident occurred. See the districts at https://data.cityofchicago.org/d/fthy-xz3r.\n",
    "\n",
    "**Ward** - The ward (City Council district) where the incident occurred. See the wards at https://data.cityofchicago.org/d/sp34-6z76.\n",
    "\n",
    "**Community Area** - Indicates the community area where the incident occurred. Chicago has 77 community areas. See the community areas at https://data.cityofchicago.org/d/cauq-8yn6.\n",
    "\n",
    "**FBI Code** - Indicates the crime classification as outlined in the FBI's National Incident-Based Reporting System (NIBRS).See the Chicago Police Department listing of these classifications at https://gis.chicagopolice.org/pages/crime_details.\n",
    "\n",
    "**X Coordinate** - The x coordinate of the location where the incident occurred in State Plane Illinois East NAD 1983 projection. This location is shifted from the actual location for partial redaction but falls on the same block.\n",
    "\n",
    "**Y Coordinate** - The y coordinate of the location where the incident occurred in State Plane Illinois East NAD 1983 projection. This location is shifted from the actual location for partial redaction but falls on the same block.\n",
    "\n",
    "**Year** - Year the incident occurred.\n",
    "\n",
    "**Updated On** - Date and time the record was last updated. \n",
    "\n",
    "**Latitude** - The latitude of the location where incident occurred. This location is shifted from the actual location for partial redaction but falls on the same block.\n",
    "\n",
    "**Longitude** - The longitude of the location where the incident occurred. This location is shifted from the actual location for partial redaction but falls on the same block.\n",
    "\n",
    "**Location** - The location where the incident occurred in a format that allows for creation of maps and other geographic operations on this data portal. This location is shifted from the actual location for partial redaction but falls on the same block.\n",
    "\n",
    "### L Stop Daily Rides\n",
    "\n",
    "**Summary**\n",
    "This list shows daily totals of ridership, by station entry, for each 'L' station dating back to 2001. Dataset shows entries at all turnstiles, combined, for each station. Daytypes are as follows: W=Weekday, A=Saturday, U=Sunday/Holiday\n",
    "\n",
    "**station_id** - City ID for station\n",
    "\n",
    "**stationname** - Street Intersection/Name of the station\n",
    "\n",
    "**date** - Day of Year\n",
    "\n",
    "**daytype** - W=Weekdays, A=Saturday, U=Sunday/Holiday\n",
    "\n",
    "**rides** - Total rides by day for each station\n",
    "\n",
    "\n",
    "### L Stop Names and Locations\n",
    "\n",
    "**Summary**\n",
    "This list of 'L' stops provides location and basic service availability information for each place on the CTA system where a train stops, along with formal station names and stop descriptions.\n",
    "\n",
    "**STOP_D** - ID assigned by the CTA for reference in their system. \n",
    "\n",
    "**STOP_NAME** - Name displayed on tickers. Stop name is similar to station with the direction of the train.\n",
    "\n",
    "**STATION_NAME** - Official name for the stop. The name is assigned based on the intersection or largest roadway.\n",
    "\n",
    "**MAP_ID** - This is unknown and may be related to map Geolocation.\n",
    "\n",
    "**ADA** - American Disability Act compliant. Refers to requirements such as a lift system as an alternative to stairs. \n",
    "\n",
    "**RED** - If the Red line has a stop at this station.\n",
    "\n",
    "**BLUE** - If the Blue line has a stop at this station.\n",
    "\n",
    "**G** - If the Green line has a stop at this station.\n",
    "\n",
    "**BRN** - If the Brown line has a stop at this station.\n",
    "\n",
    "**P** - If the Purple line has a stop at this station.\n",
    "\n",
    "**Pexp** - If the Purple line express functions for this station.\n",
    "\n",
    "**Y** - If the Yellow line has a stop at this location.\n",
    "\n",
    "**O** - If the Orange line has a stop at this location.\n",
    "\n",
    "**Location** - The Longitude and Latitude coordinates for this station.\n",
    "\n",
    "\n",
    "\n",
    "### Community Area \n",
    "\n",
    "**Summary**\n",
    "This shows the data related to the city of Chicago and how each neighborhood is organized. Data includes the geometric shape of the neighborhood and the related ID's for governance or reporting. \n",
    "\n",
    "**Community** - The standard name of the area or neighborhood. This is what the area is officially called and can be found on maps.\n",
    "\n",
    "**Area Number** - The ID associated with the community. This is a reference for other records such as crime. \n",
    "\n",
    "**Area** - This is unknown. This is not reflected in the official site and does not correlate to the area number.\n",
    "\n",
    "**Area Num 1** - This is the same value as the Area Number.\n",
    "\n",
    "**Shape Area** - Appears to be the square feet of the neighboorhood.\n",
    "\n",
    "**Geometry** - The official exact coordinates for the neighborhood.\n",
    "\n",
    "**Shape Len** - Appears to be the *length* of the neighboor given the official shape in feet.\n",
    "\n"
   ]
  },
  {
   "cell_type": "code",
   "execution_count": 1,
   "metadata": {},
   "outputs": [],
   "source": [
    "import pandas as pd\n",
    "import matplotlib.pyplot as plt\n",
    "import seaborn as sns\n",
    "import polars\n",
    "import json\n",
    "\n",
    "\n",
    "pd.options.display.max_columns = None"
   ]
  },
  {
   "cell_type": "code",
   "execution_count": 2,
   "metadata": {},
   "outputs": [],
   "source": [
    "crimes = pd.read_csv(\"crimes.csv\")\n",
    "l_stop_daily_rides = pd.read_csv(\"l_stop_daily_rides.csv\")\n",
    "\n",
    "\n"
   ]
  },
  {
   "attachments": {},
   "cell_type": "markdown",
   "metadata": {},
   "source": [
    "## Community Data\n",
    "\n",
    "The community data provided by Chicago is available in a csv, however, at the time of this EDA the file was written in a way that wasn't easily digestable. We have opted to use the geojson file of the same data. To make a dataframe for this file, we have to reformat and finally load. \n",
    "\n",
    "Below shows the required steps to extract the information we want and load into a dataframe. "
   ]
  },
  {
   "cell_type": "code",
   "execution_count": 3,
   "metadata": {},
   "outputs": [],
   "source": [
    "with open('bounds.geojson', 'r') as file:\n",
    "    comm_area_json = json.load(file)\n"
   ]
  },
  {
   "cell_type": "code",
   "execution_count": 4,
   "metadata": {},
   "outputs": [],
   "source": [
    "\n",
    "community_dict = {}\n",
    "\n",
    "for i in range(len(comm_area_json['features'])):\n",
    "    community_dict_name = comm_area_json['features'][i]['properties']['community']\n",
    "    community_dict_code = int(comm_area_json['features'][i]['properties']['area_num_1'])\n",
    "    community_dict[community_dict_code] = community_dict_name\n",
    "\n",
    "\n",
    "community_dict[0] = 'UNKNOWN'"
   ]
  },
  {
   "attachments": {},
   "cell_type": "markdown",
   "metadata": {},
   "source": [
    "# Understanding the Data\n",
    "\n",
    "A review of the data is necessary to understand where unnecessary features are listed or data that needs to be sanitized before it becomes useable. Below we see each dataset reviewed for feature data types, and null/NaN values. Any features where nulls are highly present will require adjustments or dropping entirely. "
   ]
  },
  {
   "cell_type": "code",
   "execution_count": 5,
   "metadata": {},
   "outputs": [
    {
     "data": {
      "text/plain": [
       "station_id      int64\n",
       "stationname    object\n",
       "date           object\n",
       "daytype        object\n",
       "rides           int64\n",
       "dtype: object"
      ]
     },
     "execution_count": 5,
     "metadata": {},
     "output_type": "execute_result"
    }
   ],
   "source": [
    "l_stop_daily_rides.dtypes"
   ]
  },
  {
   "cell_type": "code",
   "execution_count": 6,
   "metadata": {},
   "outputs": [
    {
     "data": {
      "text/plain": [
       "ID                        int64\n",
       "Case Number              object\n",
       "Date                     object\n",
       "Block                    object\n",
       "IUCR                     object\n",
       "Primary Type             object\n",
       "Description              object\n",
       "Location Description     object\n",
       "Arrest                     bool\n",
       "Domestic                   bool\n",
       "Beat                      int64\n",
       "District                float64\n",
       "Ward                    float64\n",
       "Community Area          float64\n",
       "FBI Code                 object\n",
       "X Coordinate            float64\n",
       "Y Coordinate            float64\n",
       "Year                      int64\n",
       "Updated On               object\n",
       "Latitude                float64\n",
       "Longitude               float64\n",
       "Location                 object\n",
       "dtype: object"
      ]
     },
     "execution_count": 6,
     "metadata": {},
     "output_type": "execute_result"
    }
   ],
   "source": [
    "crimes.dtypes"
   ]
  },
  {
   "attachments": {},
   "cell_type": "markdown",
   "metadata": {},
   "source": [
    "## Updating the Column Names\n",
    "\n",
    "Below we condition the columns so that we follow best practices. All spaces are removed and words are lowercase for easy reference. "
   ]
  },
  {
   "cell_type": "code",
   "execution_count": 7,
   "metadata": {},
   "outputs": [],
   "source": [
    "c_cols = crimes.columns\n",
    "l_cols = l_stop_daily_rides.columns\n",
    "\n",
    "\n",
    "def minimize_cols(cols: list[str]) -> list:\n",
    "    new_cols = []\n",
    "    for i in range(len(cols)):\n",
    "        updated_col = cols[i].lower()\n",
    "        updated_col = updated_col.replace(\" \",\"_\")\n",
    "        new_cols.append(updated_col)\n",
    "    return new_cols\n",
    "\n",
    "\n",
    "\n",
    "crimes.rename(columns=dict(zip(c_cols,minimize_cols(c_cols))), inplace=True)\n",
    "l_stop_daily_rides.rename(columns=dict(zip(l_cols,minimize_cols(l_cols))),inplace=True)\n",
    "\n",
    "\n"
   ]
  },
  {
   "attachments": {},
   "cell_type": "markdown",
   "metadata": {},
   "source": [
    "## Cleaning Up the Data\n",
    "\n",
    "During the upload process most of the data was converted to the object type. Here we need to update the value types and remove any data that is invalid. Missing values or nulls can be updated depending on the characteristic and relevance to the goal. \n",
    "\n",
    "\n",
    "\n",
    "We can see that no values are lost for the CTA ridership data, however, our crime data is missing data in the coordinate feature. After counting the NA/Null values we can see that the missing data accounts for approximately 1.1% of the total values. With so many values completed, we will keep these values and clean up the data with best practices.\n",
    "\n"
   ]
  },
  {
   "cell_type": "code",
   "execution_count": 8,
   "metadata": {},
   "outputs": [
    {
     "data": {
      "text/plain": [
       "{'id': 0,\n",
       " 'case_number': 0,\n",
       " 'date': 0,\n",
       " 'block': 0,\n",
       " 'iucr': 0,\n",
       " 'primary_type': 0,\n",
       " 'description': 0,\n",
       " 'location_description': 12851,\n",
       " 'arrest': 0,\n",
       " 'domestic': 0,\n",
       " 'beat': 0,\n",
       " 'district': 47,\n",
       " 'ward': 614851,\n",
       " 'community_area': 613475,\n",
       " 'fbi_code': 0,\n",
       " 'x_coordinate': 88559,\n",
       " 'y_coordinate': 88559,\n",
       " 'year': 0,\n",
       " 'updated_on': 0,\n",
       " 'latitude': 88559,\n",
       " 'longitude': 88559,\n",
       " 'location': 88559}"
      ]
     },
     "execution_count": 8,
     "metadata": {},
     "output_type": "execute_result"
    }
   ],
   "source": [
    "crime_nulls = {}\n",
    "for col in crimes.columns:\n",
    "    crime_nulls[col] = len(crimes[crimes[col].isna()])\n",
    "crime_nulls\n"
   ]
  },
  {
   "cell_type": "code",
   "execution_count": 9,
   "metadata": {},
   "outputs": [
    {
     "name": "stdout",
     "output_type": "stream",
     "text": [
      "Percent of locations missing in data set: 1.0999999999999999%\n"
     ]
    }
   ],
   "source": [
    "percent_missing = round(crime_nulls['location']/len(crimes.index),3)*100\n",
    "print(f\"Percent of locations missing in data set: {percent_missing}%\")"
   ]
  },
  {
   "cell_type": "code",
   "execution_count": 10,
   "metadata": {},
   "outputs": [
    {
     "data": {
      "text/plain": [
       "{'station_id': 0, 'stationname': 0, 'date': 0, 'daytype': 0, 'rides': 0}"
      ]
     },
     "execution_count": 10,
     "metadata": {},
     "output_type": "execute_result"
    }
   ],
   "source": [
    "l_stop_nulls = {}\n",
    "for col in l_stop_daily_rides.columns:\n",
    "    l_stop_nulls[col] = len(l_stop_daily_rides[l_stop_daily_rides[col].isna()])\n",
    "l_stop_nulls"
   ]
  },
  {
   "attachments": {},
   "cell_type": "markdown",
   "metadata": {},
   "source": [
    "The date values must be converted to the appropriate datetime data type for both the L stop and crime data sets. "
   ]
  },
  {
   "cell_type": "code",
   "execution_count": 11,
   "metadata": {},
   "outputs": [],
   "source": [
    "crimes['date'] = pd.to_datetime(crimes['date'])\n",
    "l_stop_daily_rides['date'] = pd.to_datetime(l_stop_daily_rides['date'])\n",
    "\n"
   ]
  },
  {
   "attachments": {},
   "cell_type": "markdown",
   "metadata": {},
   "source": [
    "### Crime Data\n",
    "\n",
    "It would be helpful to also include the community name within the data. We will use the community dataframe to create new features based on the existing data community code / number. The missing values for crime reflects over 600,000 missing records for community. We can safely convert this feature to an integer and fill in unknowns with 0. No community uses 0 so we can safely group this data into an unknown community while it may be of use for other statistics for chicago as a whole. We use the community dictionary to create a new column matching the community id already found in the crime data. \n",
    "\n",
    "We can clean up a few features that don't have relation to anything with public transportation and are used more for details about the unique recorded crime. "
   ]
  },
  {
   "cell_type": "code",
   "execution_count": 12,
   "metadata": {},
   "outputs": [],
   "source": [
    "crimes['community_area'] = crimes['community_area'].fillna(0).copy()\n",
    "\n",
    "crimes['community_area'] = crimes['community_area'].astype('Int64')\n",
    "\n",
    "crimes['community_name'] = crimes['community_area'].apply(lambda x: community_dict[x])"
   ]
  },
  {
   "cell_type": "code",
   "execution_count": 13,
   "metadata": {},
   "outputs": [],
   "source": [
    "crimes.drop(['case_number','x_coordinate','y_coordinate','updated_on','fbi_code'], axis=1, inplace=True)\n",
    "crimes.set_index('id', inplace=True)"
   ]
  },
  {
   "cell_type": "code",
   "execution_count": 14,
   "metadata": {},
   "outputs": [],
   "source": [
    "crimes['location'] = crimes['location'].fillna('Not Available').copy()"
   ]
  },
  {
   "cell_type": "code",
   "execution_count": 15,
   "metadata": {},
   "outputs": [
    {
     "data": {
      "text/html": [
       "<div>\n",
       "<style scoped>\n",
       "    .dataframe tbody tr th:only-of-type {\n",
       "        vertical-align: middle;\n",
       "    }\n",
       "\n",
       "    .dataframe tbody tr th {\n",
       "        vertical-align: top;\n",
       "    }\n",
       "\n",
       "    .dataframe thead th {\n",
       "        text-align: right;\n",
       "    }\n",
       "</style>\n",
       "<table border=\"1\" class=\"dataframe\">\n",
       "  <thead>\n",
       "    <tr style=\"text-align: right;\">\n",
       "      <th></th>\n",
       "      <th>date</th>\n",
       "      <th>block</th>\n",
       "      <th>iucr</th>\n",
       "      <th>primary_type</th>\n",
       "      <th>description</th>\n",
       "      <th>location_description</th>\n",
       "      <th>arrest</th>\n",
       "      <th>domestic</th>\n",
       "      <th>beat</th>\n",
       "      <th>district</th>\n",
       "      <th>ward</th>\n",
       "      <th>community_area</th>\n",
       "      <th>year</th>\n",
       "      <th>latitude</th>\n",
       "      <th>longitude</th>\n",
       "      <th>location</th>\n",
       "      <th>community_name</th>\n",
       "    </tr>\n",
       "    <tr>\n",
       "      <th>id</th>\n",
       "      <th></th>\n",
       "      <th></th>\n",
       "      <th></th>\n",
       "      <th></th>\n",
       "      <th></th>\n",
       "      <th></th>\n",
       "      <th></th>\n",
       "      <th></th>\n",
       "      <th></th>\n",
       "      <th></th>\n",
       "      <th></th>\n",
       "      <th></th>\n",
       "      <th></th>\n",
       "      <th></th>\n",
       "      <th></th>\n",
       "      <th></th>\n",
       "      <th></th>\n",
       "    </tr>\n",
       "  </thead>\n",
       "  <tbody>\n",
       "    <tr>\n",
       "      <th>5741943</th>\n",
       "      <td>2007-08-25 09:22:18</td>\n",
       "      <td>074XX N ROGERS AVE</td>\n",
       "      <td>0560</td>\n",
       "      <td>ASSAULT</td>\n",
       "      <td>SIMPLE</td>\n",
       "      <td>OTHER</td>\n",
       "      <td>False</td>\n",
       "      <td>False</td>\n",
       "      <td>2422</td>\n",
       "      <td>24.0</td>\n",
       "      <td>49.0</td>\n",
       "      <td>1</td>\n",
       "      <td>2007</td>\n",
       "      <td>NaN</td>\n",
       "      <td>NaN</td>\n",
       "      <td>Not Available</td>\n",
       "      <td>ROGERS PARK</td>\n",
       "    </tr>\n",
       "    <tr>\n",
       "      <th>25953</th>\n",
       "      <td>2021-05-24 15:06:00</td>\n",
       "      <td>020XX N LARAMIE AVE</td>\n",
       "      <td>0110</td>\n",
       "      <td>HOMICIDE</td>\n",
       "      <td>FIRST DEGREE MURDER</td>\n",
       "      <td>STREET</td>\n",
       "      <td>True</td>\n",
       "      <td>False</td>\n",
       "      <td>2515</td>\n",
       "      <td>25.0</td>\n",
       "      <td>36.0</td>\n",
       "      <td>19</td>\n",
       "      <td>2021</td>\n",
       "      <td>41.917838</td>\n",
       "      <td>-87.755969</td>\n",
       "      <td>(41.917838056, -87.755968972)</td>\n",
       "      <td>BELMONT CRAGIN</td>\n",
       "    </tr>\n",
       "    <tr>\n",
       "      <th>26038</th>\n",
       "      <td>2021-06-26 09:24:00</td>\n",
       "      <td>062XX N MC CORMICK RD</td>\n",
       "      <td>0110</td>\n",
       "      <td>HOMICIDE</td>\n",
       "      <td>FIRST DEGREE MURDER</td>\n",
       "      <td>PARKING LOT</td>\n",
       "      <td>True</td>\n",
       "      <td>False</td>\n",
       "      <td>1711</td>\n",
       "      <td>17.0</td>\n",
       "      <td>50.0</td>\n",
       "      <td>13</td>\n",
       "      <td>2021</td>\n",
       "      <td>41.995219</td>\n",
       "      <td>-87.713355</td>\n",
       "      <td>(41.995219444, -87.713354912)</td>\n",
       "      <td>NORTH PARK</td>\n",
       "    </tr>\n",
       "    <tr>\n",
       "      <th>13279676</th>\n",
       "      <td>2023-11-09 07:30:00</td>\n",
       "      <td>019XX W BYRON ST</td>\n",
       "      <td>0620</td>\n",
       "      <td>BURGLARY</td>\n",
       "      <td>UNLAWFUL ENTRY</td>\n",
       "      <td>APARTMENT</td>\n",
       "      <td>False</td>\n",
       "      <td>False</td>\n",
       "      <td>1922</td>\n",
       "      <td>19.0</td>\n",
       "      <td>47.0</td>\n",
       "      <td>5</td>\n",
       "      <td>2023</td>\n",
       "      <td>41.952345</td>\n",
       "      <td>-87.677975</td>\n",
       "      <td>(41.952345086, -87.677975059)</td>\n",
       "      <td>NORTH CENTER</td>\n",
       "    </tr>\n",
       "    <tr>\n",
       "      <th>13274752</th>\n",
       "      <td>2023-11-12 07:59:00</td>\n",
       "      <td>086XX S COTTAGE GROVE AVE</td>\n",
       "      <td>0454</td>\n",
       "      <td>BATTERY</td>\n",
       "      <td>AGGRAVATED P.O. - HANDS, FISTS, FEET, NO / MIN...</td>\n",
       "      <td>SMALL RETAIL STORE</td>\n",
       "      <td>True</td>\n",
       "      <td>False</td>\n",
       "      <td>632</td>\n",
       "      <td>6.0</td>\n",
       "      <td>6.0</td>\n",
       "      <td>44</td>\n",
       "      <td>2023</td>\n",
       "      <td>41.737751</td>\n",
       "      <td>-87.604856</td>\n",
       "      <td>(41.737750767, -87.604855911)</td>\n",
       "      <td>CHATHAM</td>\n",
       "    </tr>\n",
       "  </tbody>\n",
       "</table>\n",
       "</div>"
      ],
      "text/plain": [
       "                        date                      block  iucr primary_type  \\\n",
       "id                                                                           \n",
       "5741943  2007-08-25 09:22:18         074XX N ROGERS AVE  0560      ASSAULT   \n",
       "25953    2021-05-24 15:06:00        020XX N LARAMIE AVE  0110     HOMICIDE   \n",
       "26038    2021-06-26 09:24:00      062XX N MC CORMICK RD  0110     HOMICIDE   \n",
       "13279676 2023-11-09 07:30:00           019XX W BYRON ST  0620     BURGLARY   \n",
       "13274752 2023-11-12 07:59:00  086XX S COTTAGE GROVE AVE  0454      BATTERY   \n",
       "\n",
       "                                                description  \\\n",
       "id                                                            \n",
       "5741943                                              SIMPLE   \n",
       "25953                                   FIRST DEGREE MURDER   \n",
       "26038                                   FIRST DEGREE MURDER   \n",
       "13279676                                     UNLAWFUL ENTRY   \n",
       "13274752  AGGRAVATED P.O. - HANDS, FISTS, FEET, NO / MIN...   \n",
       "\n",
       "         location_description  arrest  domestic  beat  district  ward  \\\n",
       "id                                                                      \n",
       "5741943                 OTHER   False     False  2422      24.0  49.0   \n",
       "25953                  STREET    True     False  2515      25.0  36.0   \n",
       "26038             PARKING LOT    True     False  1711      17.0  50.0   \n",
       "13279676            APARTMENT   False     False  1922      19.0  47.0   \n",
       "13274752   SMALL RETAIL STORE    True     False   632       6.0   6.0   \n",
       "\n",
       "          community_area  year   latitude  longitude  \\\n",
       "id                                                     \n",
       "5741943                1  2007        NaN        NaN   \n",
       "25953                 19  2021  41.917838 -87.755969   \n",
       "26038                 13  2021  41.995219 -87.713355   \n",
       "13279676               5  2023  41.952345 -87.677975   \n",
       "13274752              44  2023  41.737751 -87.604856   \n",
       "\n",
       "                               location  community_name  \n",
       "id                                                       \n",
       "5741943                   Not Available     ROGERS PARK  \n",
       "25953     (41.917838056, -87.755968972)  BELMONT CRAGIN  \n",
       "26038     (41.995219444, -87.713354912)      NORTH PARK  \n",
       "13279676  (41.952345086, -87.677975059)    NORTH CENTER  \n",
       "13274752  (41.737750767, -87.604855911)         CHATHAM  "
      ]
     },
     "execution_count": 15,
     "metadata": {},
     "output_type": "execute_result"
    }
   ],
   "source": [
    "crimes.head()"
   ]
  },
  {
   "cell_type": "code",
   "execution_count": 23,
   "metadata": {},
   "outputs": [
    {
     "data": {
      "text/plain": [
       "array(['Jefferson Park', 'Cermak-Chinatown', 'Central-Lake',\n",
       "       'Dempster-Skokie', 'Dempster', 'Lake/State',\n",
       "       'Oak Park-Forest Park', 'Kedzie-Homan-Forest Park', '35th/Archer',\n",
       "       'Addison-North Main', 'Main', 'Chicago/State', 'Wellington',\n",
       "       'Austin-Forest Park', 'Clinton-Lake', 'East 63rd-Cottage Grove',\n",
       "       'Grand/State', 'Wilson', 'Cicero-Cermak', 'State/Lake', '51st',\n",
       "       '95th/Dan Ryan', 'Jackson/State', 'Randolph/Wabash',\n",
       "       'Logan Square', 'Morse', 'Grand/Milwaukee', '69th', 'Paulina',\n",
       "       'Damen-Brown', 'Washington/Dearborn', 'Kimball', 'Clark/Lake',\n",
       "       'Lawrence', 'Polk', '47th-Dan Ryan', 'Sedgwick', '54th/Cermak',\n",
       "       'Ashland/63rd', 'Morgan-Lake', 'Harrison', 'Sheridan', 'Racine',\n",
       "       'Washington/Wells', 'Quincy/Wells', 'Foster',\n",
       "       'California/Milwaukee', 'Cermak-McCormick Place',\n",
       "       'Sox-35th-Dan Ryan', 'Chicago/Milwaukee', \"O'Hare Airport\",\n",
       "       'Kedzie-Lake', 'Fullerton', 'Irving Park-Brown',\n",
       "       'LaSalle/Van Buren', 'Belmont-North Main', '79th', 'Adams/Wabash',\n",
       "       'Western-Orange', 'Clinton-Forest Park', 'UIC-Halsted',\n",
       "       '35-Bronzeville-IIT', '87th', '18th', 'Indiana', 'Monroe/State',\n",
       "       \"Irving Park-O'Hare\", 'Cumberland', 'Roosevelt', 'Damen/Milwaukee',\n",
       "       'Kedzie-Midway', '63rd-Dan Ryan', 'Kedzie-Cermak', 'Addison-Brown',\n",
       "       'Division/Milwaukee', 'Damen-Cermak', 'Cicero-Lake',\n",
       "       'Madison/Wabash', 'Harlem-Lake', 'Pulaski-Cermak', 'Kedzie-Brown',\n",
       "       'Central Park', \"Harlem-O'Hare\", 'Chicago/Franklin',\n",
       "       'North/Clybourn', 'Berwyn', 'Laramie', 'Howard', 'Granville',\n",
       "       'Western-Forest Park', 'California-Cermak', 'Ridgeland',\n",
       "       'Western-Cermak', 'Halsted/63rd', 'Pulaski-Forest Park',\n",
       "       'Montrose-Brown', 'Linden', 'Pulaski-Lake', 'Harlem-Forest Park',\n",
       "       'Ashland-Orange', 'Garfield-Dan Ryan', 'Halsted-Orange',\n",
       "       \"Addison-O'Hare\", 'Pulaski-Orange', 'Noyes', '47th-South Elevated',\n",
       "       'Merchandise Mart', 'Midway Airport', '43rd', 'Western/Milwaukee',\n",
       "       'Ashland-Lake', \"Belmont-O'Hare\", 'Oak Park-Lake', 'Conservatory',\n",
       "       'Library', 'Loyola', 'Southport', \"Montrose-O'Hare\", 'Jarvis',\n",
       "       'South Boulevard', 'Cicero-Forest Park', 'Medical Center', 'Davis',\n",
       "       'Clark/Division', 'Jackson/Dearborn', 'Washington/Wabash',\n",
       "       'Francisco', 'Central-Evanston', 'Oakton-Skokie', 'Austin-Lake',\n",
       "       'Bryn Mawr', 'Kostner', 'Forest Park', 'California-Lake',\n",
       "       'Garfield-South Elevated', 'Rockwell', 'Diversey', 'Argyle',\n",
       "       'LaSalle', 'Monroe/Dearborn', 'Rosemont', 'King Drive', 'Armitage',\n",
       "       'Thorndale', 'Western-Brown', 'Skokie', 'Washington/State',\n",
       "       'Homan'], dtype=object)"
      ]
     },
     "execution_count": 23,
     "metadata": {},
     "output_type": "execute_result"
    }
   ],
   "source": [
    "l_stop_daily_rides['stationname'].unique()\n"
   ]
  }
 ],
 "metadata": {
  "kernelspec": {
   "display_name": ".venv",
   "language": "python",
   "name": "python3"
  },
  "language_info": {
   "codemirror_mode": {
    "name": "ipython",
    "version": 3
   },
   "file_extension": ".py",
   "mimetype": "text/x-python",
   "name": "python",
   "nbconvert_exporter": "python",
   "pygments_lexer": "ipython3",
   "version": "3.12.3"
  },
  "orig_nbformat": 4
 },
 "nbformat": 4,
 "nbformat_minor": 2
}
